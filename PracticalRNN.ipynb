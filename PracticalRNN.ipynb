{
  "nbformat": 4,
  "nbformat_minor": 0,
  "metadata": {
    "colab": {
      "name": "PracticalRNN.ipynb",
      "provenance": [],
      "mount_file_id": "1Mnr-sQ1TttL6DcGPD6Le0EVh47RhRiw9",
      "authorship_tag": "ABX9TyN/M0fFZvp6tnIgSgwpChu+",
      "include_colab_link": true
    },
    "kernelspec": {
      "name": "python3",
      "display_name": "Python 3"
    },
    "language_info": {
      "name": "python"
    }
  },
  "cells": [
    {
      "cell_type": "markdown",
      "metadata": {
        "id": "view-in-github",
        "colab_type": "text"
      },
      "source": [
        "<a href=\"https://colab.research.google.com/github/pooniavaibhav/LSTM_PYTORCH/blob/main/PracticalRNN.ipynb\" target=\"_parent\"><img src=\"https://colab.research.google.com/assets/colab-badge.svg\" alt=\"Open In Colab\"/></a>"
      ]
    },
    {
      "cell_type": "code",
      "metadata": {
        "id": "DFzWNLzJCxfL"
      },
      "source": [
        "import torch\n",
        "import os\n",
        "import torch.nn as nn\n",
        "from torch.nn.utils import clip_grad_norm"
      ],
      "execution_count": 1,
      "outputs": []
    },
    {
      "cell_type": "code",
      "metadata": {
        "id": "lFk7dGx7ElWI"
      },
      "source": [
        "class Dictionary(object):\n",
        "  def __init__(self):\n",
        "    self.word2idx = {}\n",
        "    self.idx2word = {}\n",
        "    self.idx = 0\n",
        "\n",
        "  def add_word(self, word):\n",
        "    if word not in self.word2idx:\n",
        "      self.word2idx[word] = self.idx\n",
        "      self.idx2word[self.idx] = word\n",
        "      self.idx += 1\n",
        "\n",
        "  def __len__(self):\n",
        "    return len(self.word2idx)"
      ],
      "execution_count": 2,
      "outputs": []
    },
    {
      "cell_type": "code",
      "metadata": {
        "id": "Klo6clHvG3D8"
      },
      "source": [
        "class TextProcess(object):\n",
        "  def __init__(self):\n",
        "    self.dictionary = Dictionary()\n",
        "\n",
        "  def get_data(self,path,batch_size=20):\n",
        "    with open(path,\"r\") as f:\n",
        "      tokens = 0\n",
        "      for line in f:\n",
        "        words = line.split() + ['<eos>']\n",
        "        tokens += len(words)\n",
        "        for word in words:\n",
        "          self.dictionary.add_word(word)\n",
        "    #create a 1-d tensor that contains the index of all the words in the file.\n",
        "    rep_tensor = torch.LongTensor(tokens)\n",
        "    index = 0\n",
        "    with open(path, 'r') as f:\n",
        "      for line in f:\n",
        "        words = line.split() + ['<eos>']\n",
        "        for word in words:\n",
        "          rep_tensor[index] = self.dictionary.word2idx[word]\n",
        "          index +=1\n",
        "    # find out fow many batches we need-\n",
        "    num_batches = rep_tensor.shape[0] //batch_size\n",
        "    # remove the remainder (Filter out the ones that do not fit)\n",
        "    rep_tensor[:num_batches*batch_size]\n",
        "    # return (batch_size,num_batches)\n",
        "    rep_tensor = rep_tensor.view(batch_size, -1)\n",
        "    return rep_tensor"
      ],
      "execution_count": 10,
      "outputs": []
    },
    {
      "cell_type": "code",
      "metadata": {
        "id": "5DOSbPtGN69Z"
      },
      "source": [
        "embed_size = 128\n",
        "hidden_size = 1024\n",
        "num_layers = 1\n",
        "num_epochs = 20\n",
        "batch_size = 20\n",
        "timesteps = 30\n",
        "learning_rate = 0.002"
      ],
      "execution_count": 11,
      "outputs": []
    },
    {
      "cell_type": "code",
      "metadata": {
        "id": "ssVFz2foP4CJ"
      },
      "source": [
        "corpus = TextProcess()"
      ],
      "execution_count": 12,
      "outputs": []
    },
    {
      "cell_type": "code",
      "metadata": {
        "id": "iFm05u3bP9j4"
      },
      "source": [
        "rep_tensor = corpus.get_data('/alice.txt', batch_size)"
      ],
      "execution_count": 13,
      "outputs": []
    },
    {
      "cell_type": "code",
      "metadata": {
        "id": "N6MTnsRAjQu7"
      },
      "source": [
        "print(rep_tensor.shape)"
      ],
      "execution_count": null,
      "outputs": []
    },
    {
      "cell_type": "code",
      "metadata": {
        "id": "oREoKbaJjbeJ"
      },
      "source": [
        "vocab_size = len(corpus.dictionary)\n"
      ],
      "execution_count": 18,
      "outputs": []
    },
    {
      "cell_type": "code",
      "metadata": {
        "colab": {
          "base_uri": "https://localhost:8080/",
          "height": 166
        },
        "id": "WICisa1RjlSZ",
        "outputId": "57245cdb-012b-4e7b-e47f-0b2896bfdab5"
      },
      "source": [
        "num_batches = rep_tensor.shape[1] // timesteps"
      ],
      "execution_count": 19,
      "outputs": [
        {
          "output_type": "error",
          "ename": "NameError",
          "evalue": "ignored",
          "traceback": [
            "\u001b[0;31m---------------------------------------------------------------------------\u001b[0m",
            "\u001b[0;31mNameError\u001b[0m                                 Traceback (most recent call last)",
            "\u001b[0;32m<ipython-input-19-e7ed23672b45>\u001b[0m in \u001b[0;36m<module>\u001b[0;34m()\u001b[0m\n\u001b[0;32m----> 1\u001b[0;31m \u001b[0mnum_batches\u001b[0m \u001b[0;34m=\u001b[0m \u001b[0mrep_tensor\u001b[0m\u001b[0;34m.\u001b[0m\u001b[0mshape\u001b[0m\u001b[0;34m[\u001b[0m\u001b[0;36m1\u001b[0m\u001b[0;34m]\u001b[0m \u001b[0;34m//\u001b[0m \u001b[0mtimesteps\u001b[0m\u001b[0;34m\u001b[0m\u001b[0;34m\u001b[0m\u001b[0m\n\u001b[0m",
            "\u001b[0;31mNameError\u001b[0m: name 'rep_tensor' is not defined"
          ]
        }
      ]
    },
    {
      "cell_type": "code",
      "metadata": {
        "id": "Z9nToFKLQHCy"
      },
      "source": [
        "# text generator class\n",
        "class TextGenerator(nn.Module):\n",
        "\n",
        "  def __init__(self, vocab_size, embeded_size, hidden_size, num_layers):\n",
        "    super(TextGenerator, self).__init__()\n",
        "    self.embed = nn.Embedding(vocab_size, embed_size)\n",
        "    self.lstm = nn.LSTM(embed_size,hidden_size, num_layers,batch_first=True)\n",
        "    self.linear = nn.Linear(hidden_size, vocab_size)\n",
        "  \n",
        "  def forward(self,x,h):\n",
        "    x = self.embed(x)\n",
        "    #Reshape the input tensor\n",
        "    #x = x.view(batch_size,timesteps,embed_size)\n",
        "    out, (h,c) = self.lstm(x,h)\n",
        "    #Reshape the output from the (samples,timesteps,output_features) to a shape appropriate for the FC layer\n",
        "    # (batchsize * timesteps, hiddensize)\n",
        "    out = out.reshape(out.size(0) * out.size(1),out_size(2))\n",
        "    out = self.linear(out)\n",
        "    return out, (h,c)"
      ],
      "execution_count": 16,
      "outputs": []
    },
    {
      "cell_type": "code",
      "metadata": {
        "colab": {
          "base_uri": "https://localhost:8080/",
          "height": 166
        },
        "id": "JmPQ448Rg-vV",
        "outputId": "07824795-fc58-4f2f-a85d-54fb0b079d28"
      },
      "source": [
        "model = TextGenerator(vocab_size,embed_size,hidden_size,num_layers)"
      ],
      "execution_count": 17,
      "outputs": [
        {
          "output_type": "error",
          "ename": "NameError",
          "evalue": "ignored",
          "traceback": [
            "\u001b[0;31m---------------------------------------------------------------------------\u001b[0m",
            "\u001b[0;31mNameError\u001b[0m                                 Traceback (most recent call last)",
            "\u001b[0;32m<ipython-input-17-2654cbad5bcf>\u001b[0m in \u001b[0;36m<module>\u001b[0;34m()\u001b[0m\n\u001b[0;32m----> 1\u001b[0;31m \u001b[0mmodel\u001b[0m \u001b[0;34m=\u001b[0m \u001b[0mTextGenerator\u001b[0m\u001b[0;34m(\u001b[0m\u001b[0mvocab_size\u001b[0m\u001b[0;34m,\u001b[0m\u001b[0membed_size\u001b[0m\u001b[0;34m,\u001b[0m\u001b[0mhidden_size\u001b[0m\u001b[0;34m,\u001b[0m\u001b[0mnum_layers\u001b[0m\u001b[0;34m)\u001b[0m\u001b[0;34m\u001b[0m\u001b[0;34m\u001b[0m\u001b[0m\n\u001b[0m",
            "\u001b[0;31mNameError\u001b[0m: name 'vocab_size' is not defined"
          ]
        }
      ]
    },
    {
      "cell_type": "code",
      "metadata": {
        "id": "KLRhx1JLi9de"
      },
      "source": [
        ""
      ],
      "execution_count": null,
      "outputs": []
    }
  ]
}